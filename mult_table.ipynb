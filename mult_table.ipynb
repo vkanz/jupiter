{
 "cells": [
  {
   "cell_type": "code",
   "execution_count": 1,
   "metadata": {},
   "outputs": [
    {
     "name": "stdout",
     "output_type": "stream",
     "text": [
      "7\n",
      "10\n",
      "5\n",
      "6\n",
      "\t 5\t 6\n",
      "7\t 35\t 42\n",
      "8\t 40\t 48\n",
      "9\t 45\t 54\n",
      "10\t 50\t 60\n"
     ]
    }
   ],
   "source": [
    "a = int(input())\n",
    "b = int(input())\n",
    "c = int(input())\n",
    "d = int(input())\n",
    "\n",
    "for i in range(c, d + 1):\n",
    "    print('\\t', i, end = '')\n",
    "print()\n",
    "for i in range(a, b + 1):\n",
    "    print(i, end = '')\n",
    "    for j in range(c, d + 1):\n",
    "        print('\\t', i * j, end = '')\n",
    "    print()"
   ]
  },
  {
   "cell_type": "code",
   "execution_count": null,
   "metadata": {},
   "outputs": [],
   "source": []
  }
 ],
 "metadata": {
  "kernelspec": {
   "display_name": "Python 3",
   "language": "python",
   "name": "python3"
  },
  "language_info": {
   "codemirror_mode": {
    "name": "ipython",
    "version": 3
   },
   "file_extension": ".py",
   "mimetype": "text/x-python",
   "name": "python",
   "nbconvert_exporter": "python",
   "pygments_lexer": "ipython3",
   "version": "3.6.6"
  }
 },
 "nbformat": 4,
 "nbformat_minor": 2
}
